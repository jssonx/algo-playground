{
 "cells": [
  {
   "cell_type": "code",
   "execution_count": null,
   "metadata": {},
   "outputs": [],
   "source": [
    "# 二叉树的最大深度 也就是最大层数\n",
    "# https://leetcode.cn/problems/maximum-depth-of-binary-tree/\n",
    "\n",
    "# dfs的几个优点：\n",
    "# 1. 后序传值\n",
    "# 2. 先序回溯，可以节省空间"
   ]
  },
  {
   "cell_type": "code",
   "execution_count": 25,
   "metadata": {},
   "outputs": [],
   "source": [
    "class TreeNode:\n",
    "    def __init__(self, val=0, left=None, right=None):\n",
    "        self.val = val\n",
    "        self.left = left\n",
    "        self.right = right\n",
    "        \n",
    "root = TreeNode(3)\n",
    "root.left = TreeNode(9)\n",
    "root.right = TreeNode(20)\n",
    "root.right.left = TreeNode(15)\n",
    "root.right.left = TreeNode(7)"
   ]
  },
  {
   "cell_type": "code",
   "execution_count": 21,
   "metadata": {},
   "outputs": [
    {
     "name": "stdout",
     "output_type": "stream",
     "text": [
      "3\n"
     ]
    }
   ],
   "source": [
    "# 先序 bfs\n",
    "# 从已知到未知 假设root是已知的 (root, 1)\n",
    "class Solution:\n",
    "    def maxdepth(self, root: TreeNode) -> int:\n",
    "        if not root:\n",
    "            return 0\n",
    "        queue = [(root, 1)]\n",
    "        depth = 0\n",
    "        while queue:\n",
    "            next = [] # 用来存储扩展节点，也就是下一层的节点\n",
    "            for node, level in queue:\n",
    "                depth = max(depth, level)\n",
    "                if node.left:\n",
    "                    next.append((node.left, level+1))\n",
    "                if node.right:\n",
    "                    next.append((node.right, level+1))\n",
    "            queue = next\n",
    "        return level\n",
    "\n",
    "s = Solution()\n",
    "# [3,9,20,null,null,15,7]\n",
    "print(s.maxdepth(root))\n"
   ]
  },
  {
   "cell_type": "code",
   "execution_count": 29,
   "metadata": {},
   "outputs": [
    {
     "name": "stdout",
     "output_type": "stream",
     "text": [
      "3\n"
     ]
    }
   ],
   "source": [
    "# 先序 dfs\n",
    "class Solution:\n",
    "    def maxdepth(self, root: TreeNode) -> int:\n",
    "        maxDepth = 0\n",
    "        def dfs(root, depth):\n",
    "            nonlocal maxDepth\n",
    "            if not root:\n",
    "                return\n",
    "            maxDepth = max(depth, maxDepth)\n",
    "            dfs(root.left, depth+1)\n",
    "            dfs(root.right, depth+1)\n",
    "        dfs(root, 1)\n",
    "        return maxDepth\n",
    "\n",
    "s = Solution()\n",
    "# [3,9,20,null,null,15,7]\n",
    "print(s.maxdepth(root))"
   ]
  },
  {
   "cell_type": "code",
   "execution_count": 33,
   "metadata": {},
   "outputs": [
    {
     "name": "stdout",
     "output_type": "stream",
     "text": [
      "3\n"
     ]
    }
   ],
   "source": [
    "# 先序 dfs 回溯写法 本质是先序+节省空间\n",
    "class Solution:\n",
    "    def maxdepth(self, root: TreeNode) -> int:\n",
    "        maxDepth = 0\n",
    "        depth = 0\n",
    "        def dfs(root):\n",
    "            nonlocal maxDepth, depth\n",
    "            if not root:\n",
    "                maxDepth = max(depth, maxDepth) # 第一个catch点\n",
    "                return maxDepth\n",
    "            depth += 1\n",
    "            # maxDepth = max(depth, maxDepth) # 第二个catch点\n",
    "            dfs(root.left)\n",
    "            dfs(root.right)\n",
    "            depth -= 1\n",
    "        dfs(root)\n",
    "        return maxDepth\n",
    "\n",
    "s = Solution()\n",
    "# [3,9,20,null,null,15,7]\n",
    "print(s.maxdepth(root))"
   ]
  },
  {
   "cell_type": "code",
   "execution_count": 23,
   "metadata": {},
   "outputs": [
    {
     "name": "stdout",
     "output_type": "stream",
     "text": [
      "3\n"
     ]
    }
   ],
   "source": [
    "# 后序 dfs\n",
    "# 从未知到已知 假设root是未知的   \n",
    "class Solution:\n",
    "    def maxdepth(self, root: TreeNode) -> int:\n",
    "        def dfs(root):\n",
    "            if not root:\n",
    "                return 0\n",
    "            left = dfs(root.left)\n",
    "            right = dfs(root.right)\n",
    "            return max(left, right) + 1\n",
    "        return dfs(root)\n",
    "\n",
    "s = Solution()\n",
    "# [3,9,20,null,null,15,7]\n",
    "print(s.maxdepth(root))"
   ]
  },
  {
   "cell_type": "markdown",
   "metadata": {},
   "source": [
    "拓展题目 210 课程表II\n",
    "https://leetcode.cn/problems/course-schedule-ii/"
   ]
  }
 ],
 "metadata": {
  "kernelspec": {
   "display_name": "Python 3",
   "language": "python",
   "name": "python3"
  },
  "language_info": {
   "codemirror_mode": {
    "name": "ipython",
    "version": 3
   },
   "file_extension": ".py",
   "mimetype": "text/x-python",
   "name": "python",
   "nbconvert_exporter": "python",
   "pygments_lexer": "ipython3",
   "version": "3.10.6"
  },
  "orig_nbformat": 4
 },
 "nbformat": 4,
 "nbformat_minor": 2
}
