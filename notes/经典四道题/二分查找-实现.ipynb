{
 "cells": [
  {
   "cell_type": "markdown",
   "metadata": {},
   "source": [
    "# 二分查找的四种搜索\n",
    " - 先序\n",
    "   - dfs：运行栈stack\n",
    "   - bfs：等待队列queue\n",
    " - 后序\n",
    "   - dfs：运行栈stack\n",
    "\n",
    "\n",
    "## 总结\n",
    "四个边界 三个搜索思路\n",
    "\n",
    "搜索思路\n",
    " - 先序bfs\n",
    " - 先序dfs 依靠全局变量传值\n",
    " - 后序dfs 依靠返回值传值"
   ]
  },
  {
   "cell_type": "code",
   "execution_count": 19,
   "metadata": {},
   "outputs": [
    {
     "name": "stdout",
     "output_type": "stream",
     "text": [
      "6\n"
     ]
    }
   ],
   "source": [
    "# 基本模板\n",
    "def search(nums, target):\n",
    "    left = -1\n",
    "    right = len(nums)\n",
    "    while left + 1 != right:\n",
    "        mid = left + (right - left) // 2\n",
    "        if nums[mid] == target:\n",
    "            return mid\n",
    "        if nums[mid] < target:\n",
    "            left = mid\n",
    "        else:\n",
    "            right = mid\n",
    "    return -1\n",
    "\n",
    "nums = [1,2,3,4,4,4,5,9,11,14]\n",
    "target = 5\n",
    "print(search(nums, target))"
   ]
  },
  {
   "cell_type": "code",
   "execution_count": null,
   "metadata": {},
   "outputs": [],
   "source": [
    "# 四种类型\n",
    "# 左边界左侧：找到最后一个 <4 的元素\n",
    "# 左边界右侧：找到第一个 >=4 的元素\n",
    "# 右边界左侧：找到最后一个 <=4 的元素\n",
    "# 右边界右侧：找到第一个 >4 的元素\n",
    "\n",
    "# 一个重要前提：这个元素是存在的"
   ]
  },
  {
   "cell_type": "code",
   "execution_count": 12,
   "metadata": {},
   "outputs": [
    {
     "name": "stdout",
     "output_type": "stream",
     "text": [
      "2\n"
     ]
    }
   ],
   "source": [
    "# 左边界左侧：找到最后一个 <4 的元素\n",
    "def search(nums, target):\n",
    "    left = -1\n",
    "    right = len(nums)\n",
    "    while left + 1 != right:\n",
    "        mid = left + (right - left) // 2\n",
    "        if nums[mid] < target:\n",
    "            left = mid\n",
    "        else:\n",
    "            right = mid\n",
    "    return left\n",
    "\n",
    "nums = [1,2,3,4,4,4,5,9,11,14]\n",
    "target = 4\n",
    "print(search(nums, target))"
   ]
  },
  {
   "cell_type": "code",
   "execution_count": 10,
   "metadata": {},
   "outputs": [
    {
     "name": "stdout",
     "output_type": "stream",
     "text": [
      "3\n"
     ]
    }
   ],
   "source": [
    "# 左边界右侧：找到第一个 >=4 的元素\n",
    "def search(nums, target):\n",
    "    left = -1\n",
    "    right = len(nums)\n",
    "    while left + 1 != right:\n",
    "        mid = left + (right - left) // 2\n",
    "        if nums[mid] < target:\n",
    "            left = mid\n",
    "        else:\n",
    "            right = mid\n",
    "    return right\n",
    "\n",
    "nums = [1,2,3,4,4,4,5,9,11,14]\n",
    "target = 4\n",
    "print(search(nums, target))"
   ]
  },
  {
   "cell_type": "code",
   "execution_count": 13,
   "metadata": {},
   "outputs": [
    {
     "name": "stdout",
     "output_type": "stream",
     "text": [
      "5\n"
     ]
    }
   ],
   "source": [
    "# 右边界左侧：找到最后一个 <=4 的元素\n",
    "def search(nums, target):\n",
    "    left = -1\n",
    "    right = len(nums)\n",
    "    while left + 1 != right:\n",
    "        mid = left + (right - left) // 2\n",
    "        if nums[mid] <= target:\n",
    "            left = mid\n",
    "        else:\n",
    "            right = mid\n",
    "    return left\n",
    "\n",
    "nums = [1,2,3,4,4,4,5,9,11,14]\n",
    "target = 4\n",
    "print(search(nums, target))"
   ]
  },
  {
   "cell_type": "code",
   "execution_count": 14,
   "metadata": {},
   "outputs": [
    {
     "name": "stdout",
     "output_type": "stream",
     "text": [
      "6\n"
     ]
    }
   ],
   "source": [
    "# 右边界右侧：找到第一个 >4 的元素\n",
    "def search(nums, target):\n",
    "    left = -1\n",
    "    right = len(nums)\n",
    "    while left + 1 != right:\n",
    "        mid = left + (right - left) // 2\n",
    "        if nums[mid] <= target:\n",
    "            left = mid\n",
    "        else:\n",
    "            right = mid\n",
    "    return right\n",
    "\n",
    "nums = [1,2,3,4,4,4,5,9,11,14]\n",
    "target = 4\n",
    "print(search(nums, target))"
   ]
  },
  {
   "cell_type": "code",
   "execution_count": 21,
   "metadata": {},
   "outputs": [
    {
     "name": "stdout",
     "output_type": "stream",
     "text": [
      "4\n"
     ]
    }
   ],
   "source": [
    "# 先序bfs 队列\n",
    "def search(nums, target):\n",
    "    queue = [[-1, len(nums)]]\n",
    "    while queue:\n",
    "        l, r = queue.pop(0)\n",
    "        if l + 1 == r:\n",
    "            return -1\n",
    "        mid = l + (r - l) // 2\n",
    "        if nums[mid] == target:\n",
    "            return mid\n",
    "        if nums[mid] < target:\n",
    "            queue.append([mid, r])\n",
    "        else:\n",
    "            queue.append([l, mid])\n",
    "    return -1\n",
    "\n",
    "nums = [1,2,3,4,4,4,5,9,11,14]\n",
    "target = 4\n",
    "print(search(nums, target))"
   ]
  },
  {
   "cell_type": "code",
   "execution_count": 33,
   "metadata": {},
   "outputs": [
    {
     "name": "stdout",
     "output_type": "stream",
     "text": [
      "3\n"
     ]
    }
   ],
   "source": [
    "# 先序dfs 运行栈 依靠全局变量传值\n",
    "class Solution:\n",
    "    def __init__(self) -> None:\n",
    "        self.res = 0\n",
    "\n",
    "    def search(self, nums, target, left, right):\n",
    "        if left + 1 == right:\n",
    "            self.res = right\n",
    "            return\n",
    "        mid = (left + right) // 2\n",
    "        if nums[mid] < target:\n",
    "            self.search(nums, target, mid, right)\n",
    "        else:\n",
    "            self.search(nums, target, left, mid)\n",
    "\n",
    "nums = [1,2,3,4,4,4,5,9,11,14]\n",
    "target = 4\n",
    "\n",
    "s = Solution()\n",
    "s.search(nums, target, -1, len(nums))\n",
    "print(s.res)"
   ]
  },
  {
   "cell_type": "code",
   "execution_count": 36,
   "metadata": {},
   "outputs": [
    {
     "name": "stdout",
     "output_type": "stream",
     "text": [
      "3\n"
     ]
    }
   ],
   "source": [
    "# 后序dfs 线段树 依靠return返回值传值\n",
    "def search(nums, target):\n",
    "    def dfs(left, right):\n",
    "        if left + 1 == right:\n",
    "            return right\n",
    "        mid = (left + right) // 2\n",
    "        if nums[mid] < target:\n",
    "            return dfs(mid, right)\n",
    "        else:\n",
    "            return dfs(left, mid)\n",
    "    return dfs(-1, len(nums))\n",
    "\n",
    "nums = [1,2,3,4,4,4,5,9,11,14]\n",
    "target = 4\n",
    "print(search(nums, target))"
   ]
  }
 ],
 "metadata": {
  "kernelspec": {
   "display_name": "Python 3",
   "language": "python",
   "name": "python3"
  },
  "language_info": {
   "codemirror_mode": {
    "name": "ipython",
    "version": 3
   },
   "file_extension": ".py",
   "mimetype": "text/x-python",
   "name": "python",
   "nbconvert_exporter": "python",
   "pygments_lexer": "ipython3",
   "version": "3.10.6"
  },
  "orig_nbformat": 4
 },
 "nbformat": 4,
 "nbformat_minor": 2
}
