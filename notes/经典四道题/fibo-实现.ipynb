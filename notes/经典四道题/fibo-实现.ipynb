{
 "cells": [
  {
   "cell_type": "code",
   "execution_count": 1,
   "metadata": {},
   "outputs": [],
   "source": [
    "# https://leetcode.cn/problems/fibonacci-number/\n",
    "# 四种实现\n",
    "# 先序遍历 for dfs运行栈 bfs等待队列\n",
    "# 后序遍历 dfs运行栈"
   ]
  },
  {
   "cell_type": "code",
   "execution_count": 5,
   "metadata": {},
   "outputs": [
    {
     "name": "stdout",
     "output_type": "stream",
     "text": [
      "2 1\n",
      "3 2\n",
      "4 3\n"
     ]
    },
    {
     "data": {
      "text/plain": [
       "3"
      ]
     },
     "execution_count": 5,
     "metadata": {},
     "output_type": "execute_result"
    }
   ],
   "source": [
    "# 先序 for\n",
    "def fib(n: int) -> int:\n",
    "    if n < 2:\n",
    "        return n\n",
    "    dp = [0] * (n + 1)\n",
    "    dp[1] = 1\n",
    "    for i in range(2, n+1):\n",
    "        dp[i] = dp[i-1] + dp[i-2]\n",
    "        print(i, dp[i])\n",
    "    return dp[n]\n",
    "\n",
    "fib(4)"
   ]
  },
  {
   "cell_type": "code",
   "execution_count": 7,
   "metadata": {},
   "outputs": [
    {
     "name": "stdout",
     "output_type": "stream",
     "text": [
      "0\n",
      "1\n",
      "2\n",
      "3\n",
      "4\n"
     ]
    },
    {
     "data": {
      "text/plain": [
       "3"
      ]
     },
     "execution_count": 7,
     "metadata": {},
     "output_type": "execute_result"
    }
   ],
   "source": [
    "# 先序 bfs 等待队列\n",
    "def fib(n: int) -> int:\n",
    "    if n < 2:\n",
    "        return n\n",
    "    dp = [0] * (n+1)\n",
    "    dp[1] = 1\n",
    "    indeg = [2] * (n+1)\n",
    "    indeg[0] = 0\n",
    "    indeg[1] = 0\n",
    "\n",
    "    queue = [0, 1]\n",
    "    while queue:\n",
    "        x = queue.pop(0)\n",
    "        print(x)\n",
    "\n",
    "        if x == n:\n",
    "            return dp[n]\n",
    "        \n",
    "        next = [2] if x == 0 else [x+1, x+2]\n",
    "\n",
    "        for y in next:\n",
    "            if y > n:\n",
    "                continue\n",
    "            dp[y] = dp[y] + dp[x]\n",
    "            indeg[y] -= 1\n",
    "            if indeg[y] == 0:\n",
    "                queue.append(y)\n",
    "    return 0\n",
    "\n",
    "fib(4)"
   ]
  },
  {
   "cell_type": "code",
   "execution_count": 12,
   "metadata": {},
   "outputs": [
    {
     "data": {
      "text/plain": [
       "5"
      ]
     },
     "execution_count": 12,
     "metadata": {},
     "output_type": "execute_result"
    }
   ],
   "source": [
    "# 先序 dfs 运行时栈\n",
    "def fib(n: int) -> int:\n",
    "    if n < 2:\n",
    "        return n\n",
    "    dp = [0] * (n+1)\n",
    "    dp[1] = 1\n",
    "    indeg = [2] * (n+1)\n",
    "    indeg[0] = 0\n",
    "    indeg[1] = 0\n",
    "\n",
    "    begin = [0, 1]\n",
    "\n",
    "    def dfs(x):\n",
    "        if x > n:\n",
    "            return\n",
    "        for y in [x+1, x+2]:\n",
    "            if y > n:\n",
    "                continue\n",
    "            dp[y] = dp[y] + dp[x]\n",
    "            indeg[y] -= 1\n",
    "            if indeg[y] == 0:\n",
    "                dfs(y)\n",
    "\n",
    "    for i in begin:\n",
    "        dfs(i)\n",
    "    \n",
    "    return dp[n]\n",
    "fib(5)"
   ]
  },
  {
   "cell_type": "code",
   "execution_count": 11,
   "metadata": {},
   "outputs": [
    {
     "name": "stdout",
     "output_type": "stream",
     "text": [
      "[1, 2, 3, 5]\n",
      "5\n"
     ]
    }
   ],
   "source": [
    "# 后序遍历 dfs\n",
    "def fib(n: int) -> int:\n",
    "    if n < 2:\n",
    "        return n\n",
    "    dp = [0] * (n+1)\n",
    "    dp[1] = 1\n",
    "    topo = []\n",
    "    def dfs(x):\n",
    "        if x < 2:\n",
    "            return x\n",
    "        if x >= 2 and dp[x] != 0:\n",
    "            return dp[x]\n",
    "        dp[x] = dfs(x-1) + dfs(x-2)\n",
    "        topo.append(dp[x])\n",
    "        return dp[x]\n",
    "    res = dfs(n)\n",
    "    print(topo)\n",
    "    return res\n",
    "\n",
    "res = fib(5)\n",
    "print(res)"
   ]
  }
 ],
 "metadata": {
  "kernelspec": {
   "display_name": "Python 3",
   "language": "python",
   "name": "python3"
  },
  "language_info": {
   "codemirror_mode": {
    "name": "ipython",
    "version": 3
   },
   "file_extension": ".py",
   "mimetype": "text/x-python",
   "name": "python",
   "nbconvert_exporter": "python",
   "pygments_lexer": "ipython3",
   "version": "3.10.6"
  },
  "orig_nbformat": 4
 },
 "nbformat": 4,
 "nbformat_minor": 2
}
