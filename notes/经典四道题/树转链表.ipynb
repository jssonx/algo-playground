{
 "cells": [
  {
   "cell_type": "code",
   "execution_count": 1,
   "metadata": {},
   "outputs": [],
   "source": [
    "# 树转链表\n",
    "# 问题：二叉树的前中后序遍历指的是什么顺序？访问顺序\n",
    "# 问题：多叉树的先根顺序和后根顺序指的是什么顺序？邻接顺序"
   ]
  },
  {
   "cell_type": "code",
   "execution_count": 14,
   "metadata": {},
   "outputs": [],
   "source": [
    "class TreeNode:\n",
    "    def __init__(self, val=0, left=None, right=None):\n",
    "        self.val = val\n",
    "        self.left = left\n",
    "        self.right = right\n",
    "        \n",
    "root = TreeNode(3)\n",
    "root.left = TreeNode(9)\n",
    "root.right = TreeNode(20)\n",
    "root.right.left = TreeNode(15)\n",
    "root.right.right = TreeNode(7)\n",
    "#   3\n",
    "#  9 20\n",
    "#   15 7"
   ]
  },
  {
   "cell_type": "code",
   "execution_count": 8,
   "metadata": {},
   "outputs": [
    {
     "name": "stdout",
     "output_type": "stream",
     "text": [
      "[3, 9, 20, 15, 7]\n",
      "[9, 3, 15, 20, 7]\n",
      "[9, 15, 7, 20, 3]\n"
     ]
    }
   ],
   "source": [
    "# 将二叉树遍历的递归写法写成栈模拟的写法\n",
    "# 附加题：如果是多叉树呢？\n",
    "\n",
    "class Solution:\n",
    "    def __init__(self):\n",
    "        self.preOrder = []\n",
    "        self.inOrder = []\n",
    "        self.postOrder = []\n",
    "    def traversal(self, root):\n",
    "        self.dfs(root)\n",
    "        return self.preOrder, self.inOrder, self.postOrder\n",
    "    \n",
    "    def dfs(self, root):\n",
    "        if root == None:\n",
    "            return\n",
    "        self.preOrder.append(root.val)\n",
    "        self.dfs(root.left)\n",
    "        self.inOrder.append(root.val)\n",
    "        self.dfs(root.right)\n",
    "        self.postOrder.append(root.val)\n",
    "    \n",
    "s = Solution()\n",
    "pre, ino, post = s.traversal(root)\n",
    "print(pre)\n",
    "print(ino)\n",
    "print(post)"
   ]
  },
  {
   "cell_type": "code",
   "execution_count": 9,
   "metadata": {},
   "outputs": [
    {
     "name": "stdout",
     "output_type": "stream",
     "text": [
      "[3, 9, 20, 15, 7]\n",
      "[9, 3, 15, 20, 7]\n",
      "[7, 15, 20, 9, 3]\n"
     ]
    }
   ],
   "source": [
    "# 将递归写法改成栈模拟的写法\n",
    "class Solution:\n",
    "    def __init__(self):\n",
    "        self.preOrder = []\n",
    "        self.inOrder = []\n",
    "        self.postOrder = []\n",
    "    \n",
    "    def traversal(self, root):\n",
    "        self.dfs(root)\n",
    "        return self.preOrder, self.inOrder, self.postOrder\n",
    "    \n",
    "    def dfs(self, root):\n",
    "        stack = []\n",
    "        while root or stack:\n",
    "            while root:\n",
    "                self.preOrder.append(root.val)\n",
    "                stack.append(root)\n",
    "                root = root.left\n",
    "            root = stack.pop()\n",
    "            self.inOrder.append(root.val)\n",
    "            root = root.right\n",
    "        self.postOrder = self.preOrder[::-1]\n",
    "\n",
    "s = Solution()\n",
    "pre, ino, post = s.traversal(root)\n",
    "print(pre)\n",
    "print(ino)\n",
    "print(post)"
   ]
  },
  {
   "cell_type": "code",
   "execution_count": 18,
   "metadata": {},
   "outputs": [],
   "source": [
    "class TreeNode:\n",
    "    def __init__(self, val=0, left=None, right=None):\n",
    "        self.val = val\n",
    "        self.left = left\n",
    "        self.right = right\n",
    "        \n",
    "root = TreeNode(3)\n",
    "root.left = TreeNode(9)\n",
    "root.right = TreeNode(20)\n",
    "root.right.left = TreeNode(15)\n",
    "root.right.right = TreeNode(7)\n",
    "#   3\n",
    "#  9 20\n",
    "#   15 7"
   ]
  },
  {
   "cell_type": "code",
   "execution_count": 19,
   "metadata": {},
   "outputs": [
    {
     "name": "stdout",
     "output_type": "stream",
     "text": [
      "3\n",
      "9\n",
      "20\n",
      "15\n",
      "7\n"
     ]
    }
   ],
   "source": [
    "# 树转链表\n",
    "# 要求：与先序的顺序相同，原地转换，函数返回值为None\n",
    "\n",
    "from typing import Optional\n",
    "\n",
    "# 访问 + 后序\n",
    "class Solution:\n",
    "    def flatten(self, root: Optional[TreeNode]) -> None:\n",
    "        post = None\n",
    "        def dfs(node):\n",
    "            nonlocal post\n",
    "            if node == None:\n",
    "                return\n",
    "            dfs(node.right)\n",
    "            dfs(node.left)\n",
    "            node.right = post\n",
    "            node.left = None\n",
    "            post = node\n",
    "        dfs(root)\n",
    "\n",
    "s = Solution()\n",
    "s.flatten(root)\n",
    "# traverse the flatten tree\n",
    "while root:\n",
    "    print(root.val)\n",
    "    root = root.right"
   ]
  },
  {
   "cell_type": "code",
   "execution_count": 7,
   "metadata": {},
   "outputs": [],
   "source": [
    "class TreeNode:\n",
    "    def __init__(self, val=0, left=None, right=None):\n",
    "        self.val = val\n",
    "        self.left = left\n",
    "        self.right = right\n",
    "        \n",
    "root = TreeNode(3)\n",
    "root.left = TreeNode(9)\n",
    "root.right = TreeNode(20)\n",
    "root.right.left = TreeNode(15)\n",
    "root.right.right = TreeNode(7)\n",
    "#   3\n",
    "#  9 20\n",
    "#   15 7"
   ]
  },
  {
   "cell_type": "code",
   "execution_count": 8,
   "metadata": {},
   "outputs": [
    {
     "name": "stdout",
     "output_type": "stream",
     "text": [
      "3\n",
      "9\n",
      "20\n",
      "15\n",
      "7\n"
     ]
    }
   ],
   "source": [
    "# 访问 + 先序\n",
    "class Solution:\n",
    "    def flatten(self, root: Optional[TreeNode]) -> None:\n",
    "        pre = TreeNode(-1)\n",
    "        head = pre\n",
    "        def dfs(root):\n",
    "            nonlocal pre\n",
    "            if not root:\n",
    "                return\n",
    "            left = root.left\n",
    "            right = root.right\n",
    "            pre.right = root\n",
    "            pre.left = None\n",
    "            pre = root\n",
    "            dfs(left)\n",
    "            dfs(right)\n",
    "        dfs(root)\n",
    "        return head.right\n",
    "\n",
    "s = Solution()\n",
    "s.flatten(root)\n",
    "# traverse the flatten tree\n",
    "while root:\n",
    "    print(root.val)\n",
    "    root = root.right"
   ]
  },
  {
   "cell_type": "code",
   "execution_count": 14,
   "metadata": {},
   "outputs": [],
   "source": [
    "class TreeNode:\n",
    "    def __init__(self, val=0, left=None, right=None):\n",
    "        self.val = val\n",
    "        self.left = left\n",
    "        self.right = right\n",
    "        \n",
    "root = TreeNode(3)\n",
    "root.left = TreeNode(9)\n",
    "root.right = TreeNode(20)\n",
    "root.right.left = TreeNode(15)\n",
    "root.right.right = TreeNode(7)\n",
    "#   3\n",
    "#  9 20\n",
    "#   15 7"
   ]
  },
  {
   "cell_type": "code",
   "execution_count": 15,
   "metadata": {},
   "outputs": [
    {
     "name": "stdout",
     "output_type": "stream",
     "text": [
      "left: 15\n",
      "left: 9\n",
      "3\n",
      "9\n",
      "20\n",
      "15\n",
      "7\n"
     ]
    }
   ],
   "source": [
    "# 邻接 + 后序\n",
    "# 理解邻接顺序，要把问题想成一个DAG\n",
    "from typing import Optional\n",
    "class Solution:\n",
    "    def flatten(self, root: Optional[TreeNode]) -> None:\n",
    "        return self.dfs(root)\n",
    "    def dfs(self, root):\n",
    "        if not root:\n",
    "            return [None, None]\n",
    "        if not root.left and not root.right:\n",
    "            return [root, root]\n",
    "        leftHead, leftTail = self.dfs(root.left)\n",
    "        rightHead, rightTail = self.dfs(root.right)\n",
    "\n",
    "        if not root.left: # 只有右子树\n",
    "            root.right = rightHead\n",
    "            return [root, rightTail]\n",
    "        \n",
    "        root.left = None\n",
    "        if not root.right: # 只有左子树\n",
    "            root.right = leftHead\n",
    "            return [root, leftTail]\n",
    "        \n",
    "        root.right = leftHead\n",
    "        leftTail.right = rightHead\n",
    "        return [root, rightTail]\n",
    "\n",
    "s = Solution()\n",
    "s.flatten(root)\n",
    "# traverse the flatten tree\n",
    "while root:\n",
    "    print(root.val)\n",
    "    root = root.right\n"
   ]
  },
  {
   "cell_type": "code",
   "execution_count": null,
   "metadata": {},
   "outputs": [],
   "source": []
  }
 ],
 "metadata": {
  "kernelspec": {
   "display_name": "Python 3",
   "language": "python",
   "name": "python3"
  },
  "language_info": {
   "codemirror_mode": {
    "name": "ipython",
    "version": 3
   },
   "file_extension": ".py",
   "mimetype": "text/x-python",
   "name": "python",
   "nbconvert_exporter": "python",
   "pygments_lexer": "ipython3",
   "version": "3.10.6"
  },
  "orig_nbformat": 4
 },
 "nbformat": 4,
 "nbformat_minor": 2
}
